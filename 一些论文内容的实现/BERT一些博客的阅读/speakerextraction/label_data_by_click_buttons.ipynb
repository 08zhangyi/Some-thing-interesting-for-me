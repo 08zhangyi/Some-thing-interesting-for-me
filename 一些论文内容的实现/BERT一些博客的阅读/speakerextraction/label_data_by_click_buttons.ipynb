{
 "cells": [
  {
   "cell_type": "markdown",
   "metadata": {},
   "source": [
    "# Label speaker by click buttons\n",
    "\n",
    "By LongGang Pang\n",
    "\n",
    "Try to use the widgets in jupyter notebook to design one software to label the data using clicking on \n",
    "buttons."
   ]
  },
  {
   "cell_type": "code",
   "execution_count": 22,
   "metadata": {},
   "outputs": [],
   "source": [
    "from honglou import talks"
   ]
  },
  {
   "cell_type": "code",
   "execution_count": 94,
   "metadata": {
    "collapsed": true
   },
   "outputs": [],
   "source": [
    "from ipywidgets import *\n",
    "from IPython.display import display\n",
    "from IPython.html import widgets\n",
    "from IPython.display import clear_output\n",
    "import json\n",
    "import ast\n",
    "# displaying the labelling widget\n",
    "##text = widgets.Text(description=\"Label the speaker by clicking buttons\", width=200)\n",
    "##display(text)"
   ]
  },
  {
   "cell_type": "code",
   "execution_count": 115,
   "metadata": {},
   "outputs": [],
   "source": [
    "def check_existence(sentence, idx, saved_file=\"label_honglou.txt\"):\n",
    "    speakers = []\n",
    "    contexts = []\n",
    "    combined_res = [] \n",
    "    # combine N speakers with M contexts to get N*M examples\n",
    "    with open(saved_file, \"r\") as f:\n",
    "        lines = f.readlines()\n",
    "        for line in lines:\n",
    "            res = ast.literal_eval(line)  # 运行line的python表达式，相当于一个字典\n",
    "            speakers.append(res['speaker'])\n",
    "            ctx = res['context']\n",
    "            ctx_left = ctx[:res[\"istart\"]]\n",
    "            ctx_right = ctx[res[\"iend\"]:]\n",
    "            contexts.append([ctx_left, ctx_right, res[\"istart\"]])\n",
    "            \n",
    "    for speaker in speakers:\n",
    "        for ctx in contexts:\n",
    "            try:\n",
    "                new_ctx = ctx[0] + speaker + ctx[1]\n",
    "                istart = ctx[2]\n",
    "                new_iend = istart + len(speaker)\n",
    "                res = {'uid': 0, \n",
    "                       'context': new_ctx,\n",
    "                       'speaker': speaker,\n",
    "                       'istart': istart, \n",
    "                       'iend': new_iend}\n",
    "                combined_res.append(res)\n",
    "                if sentence == res['context']:\n",
    "                    print(\"This item exist:\", sentence)\n",
    "                    res['uid'] = idx\n",
    "                    return True, res\n",
    "            except:\n",
    "                continue\n",
    "    return False, None\n",
    "\n",
    "#check_existence(\"fdsa\", 0)"
   ]
  },
  {
   "cell_type": "code",
   "execution_count": 116,
   "metadata": {},
   "outputs": [],
   "source": [
    "class ToButtons(object):\n",
    "    def __init__(self, input_str):\n",
    "        self.input_str = input_str\n",
    "        self.res = None\n",
    "        self.buttons = []\n",
    "        self.pos_labels = []\n",
    "        item_layout = Layout(height='40px', min_width='40px', max_width='40px')\n",
    "        items = [Button(layout=item_layout, \n",
    "                        description=input_str[i],\n",
    "                        value=i,\n",
    "                        button_style='info')\n",
    "                 for i in range(len(input_str))]\n",
    "        \n",
    "        box_layout = Layout(\n",
    "                    border='3px solid black',\n",
    "                    width='800px',\n",
    "                    height='',\n",
    "                    flex_flow='row wrap',\n",
    "                    display='flex')\n",
    "        carousel = Box(children=items, layout=box_layout)\n",
    "        display(carousel)\n",
    "        \n",
    "        for item in items[:-2]:\n",
    "            item.on_click(self.on_button_clicked)\n",
    "        \n",
    "    # function to deal with the checkbox update button       \n",
    "    def on_button_clicked(self, b):\n",
    "        #print(b.value)\n",
    "        self.pos_labels.append(b.value)\n",
    "        if len(self.pos_labels) > 2:\n",
    "            #raise ValueError(\"only click the start and the end word\")\n",
    "            print(\"Warning: click more than 2 times, will use the last click \\\n",
    "                  as the end of the label position\")\n",
    "            \n",
    "    def return_results(self):\n",
    "        if len(self.pos_labels) == 0:\n",
    "            self.pos_labels.append(-1)\n",
    "        return self.input_str, self.pos_labels[0], self.pos_labels[-1]+1\n",
    "\n",
    "    \n",
    "class LabelSpeaker(object):\n",
    "    def __init__(self, talk_list, progress=0, save_to='label_honglou.txt'):\n",
    "        self.progress = progress\n",
    "        self.saving_path = save_to\n",
    "        self.talk_list = talk_list\n",
    "        self.sentence_buttons = ToButtons(talk_list[self.progress]['context'])\n",
    "        self.submit_layout = Layout(height='40px', min_width='40px')\n",
    "        self.submit = Button(layout=self.submit_layout, \n",
    "                        description=\"submit\",\n",
    "                       button_style='warning')\n",
    "        self.submit.on_click(self.on_button_submit)\n",
    "        display(self.submit)        \n",
    "\n",
    "        \n",
    "    def save_one_item(self, progress, sentence, istart, iend):\n",
    "        speaker = None\n",
    "        if istart != -1: speaker = sentence[istart:iend]\n",
    "        res = {'uid':progress, 'context':sentence,\n",
    "               'speaker':speaker,\n",
    "               'istart':istart, 'iend':iend}\n",
    "        with open(self.saving_path, 'a') as f:\n",
    "            f.write(res.__repr__())\n",
    "            f.write('\\n')\n",
    "        \n",
    "    def on_button_submit(self, b):\n",
    "        sentence, istart, iend = self.sentence_buttons.return_results()\n",
    "        print(sentence[istart:iend])\n",
    "        self.save_one_item(self.progress, sentence, istart, iend)\n",
    "        clear_output()\n",
    "        while True:\n",
    "            self.progress = self.progress + 1\n",
    "            new_sentence = self.talk_list[self.progress]['context']\n",
    "            existed, res = check_existence(new_sentence, self.progress)\n",
    "            if existed: \n",
    "                self.save_one_item(self.progress, new_sentence,\n",
    "                                      res['istart'], res['iend'])\n",
    "            else:\n",
    "                break\n",
    "        # after check exist \n",
    "        self.sentence_buttons = ToButtons(new_sentence)\n",
    "        self.submit = Button(layout=self.submit_layout, \n",
    "                        description=\"submit\",\n",
    "                       button_style='warning')\n",
    "        self.submit.on_click(self.on_button_submit)\n",
    "        display(self.submit)"
   ]
  },
  {
   "cell_type": "code",
   "execution_count": 121,
   "metadata": {},
   "outputs": [
    {
     "data": {},
     "metadata": {},
     "output_type": "display_data"
    },
    {
     "data": {},
     "metadata": {},
     "output_type": "display_data"
    }
   ],
   "source": [
    "b1 = LabelSpeaker(talks, progress=1563)"
   ]
  },
  {
   "cell_type": "code",
   "execution_count": 212,
   "metadata": {
    "collapsed": true
   },
   "outputs": [],
   "source": [
    "def data_augmentation(saved_file=\"label_honglou.txt\"):\n",
    "    speakers = []\n",
    "    contexts = []\n",
    "    combined_res = [] \n",
    "    # combine N speakers with M contexts to get N*M examples\n",
    "    with open(saved_file, \"r\") as f:\n",
    "        lines = f.readlines()\n",
    "        for line in lines:\n",
    "            res = ast.literal_eval(line)\n",
    "            speakers.append(res['speaker'])\n",
    "            ctx = res['context']\n",
    "            ctx_left = ctx[:res[\"istart\"]]\n",
    "            ctx_right = ctx[res[\"iend\"]:]\n",
    "            contexts.append([ctx_left, ctx_right, res[\"istart\"]])\n",
    "            \n",
    "    uid = 0   \n",
    "    len_truncate = 128\n",
    "    for speaker in speakers:\n",
    "        for ctx in contexts:\n",
    "            try:\n",
    "                new_ctx = ctx[0] + speaker + ctx[1]\n",
    "                istart = ctx[2]\n",
    "                new_iend = istart + len(speaker)\n",
    "                new_speaker = speaker\n",
    "                # truncate the input if the speaker is contained in the last 128 words\n",
    "                if len(new_ctx) > len_truncate and (len(new_ctx)-istart)<len_truncate:\n",
    "                    truncated_ctx = new_ctx[-len_truncate:]\n",
    "                    istart = ctx[2] - (len(new_ctx) - len_truncate)\n",
    "                    new_iend = istart + len(speaker)\n",
    "                    new_speaker = truncated_ctx[istart:new_iend]\n",
    "                res = {'uid':uid, \n",
    "                   'context':new_ctx,\n",
    "                   'speaker':new_speaker,\n",
    "                   'istart':istart, \n",
    "                   'iend':new_iend}\n",
    "                combined_res.append(res)\n",
    "                uid = uid + 1\n",
    "            except:\n",
    "                continue\n",
    "    return combined_res"
   ]
  },
  {
   "cell_type": "code",
   "execution_count": 213,
   "metadata": {
    "collapsed": true
   },
   "outputs": [],
   "source": [
    "augmented_data = data_augmentation()"
   ]
  },
  {
   "cell_type": "code",
   "execution_count": 214,
   "metadata": {},
   "outputs": [
    {
     "data": {
      "text/plain": [
       "2269586"
      ]
     },
     "execution_count": 214,
     "metadata": {},
     "output_type": "execute_result"
    }
   ],
   "source": [
    "len(augmented_data)"
   ]
  },
  {
   "cell_type": "code",
   "execution_count": 224,
   "metadata": {},
   "outputs": [
    {
     "name": "stdout",
     "output_type": "stream",
     "text": [
      "{'uid': 9900, 'context': '那僧听了，将手中的茶杯只顺手往地下一掷，豁啷一声，打了个粉碎，泼了茜雪一裙子的茶．又跳起来问着茜雪道：', 'speaker': '那僧', 'istart': 0, 'iend': 2}\n"
     ]
    }
   ],
   "source": [
    "print(augmented_data[9900])"
   ]
  },
  {
   "cell_type": "code",
   "execution_count": 228,
   "metadata": {},
   "outputs": [
    {
     "data": {},
     "metadata": {},
     "output_type": "display_data"
    },
    {
     "name": "stdout",
     "output_type": "stream",
     "text": [
      "\n"
     ]
    }
   ],
   "source": [
    "from tqdm import tqdm_notebook\n",
    "with open(\"augmented_honglou_speaker.py\", \"w\") as fout:\n",
    "    fout.write(\"speakers=[\")\n",
    "    for item in tqdm_notebook(augmented_data):\n",
    "        fout.write(item.__repr__())\n",
    "        fout.write(',\\n')\n",
    "    fout.write(']')"
   ]
  },
  {
   "cell_type": "code",
   "execution_count": 1,
   "metadata": {
    "collapsed": true
   },
   "outputs": [],
   "source": [
    "from augmented_honglou_speaker import speakers"
   ]
  },
  {
   "cell_type": "code",
   "execution_count": 2,
   "metadata": {},
   "outputs": [
    {
     "data": {
      "text/plain": [
       "2269586"
      ]
     },
     "execution_count": 2,
     "metadata": {},
     "output_type": "execute_result"
    }
   ],
   "source": [
    "len(speakers)"
   ]
  },
  {
   "cell_type": "code",
   "execution_count": 4,
   "metadata": {},
   "outputs": [],
   "source": [
    "from augment_data import speakers"
   ]
  },
  {
   "cell_type": "code",
   "execution_count": null,
   "metadata": {
    "collapsed": true
   },
   "outputs": [],
   "source": []
  }
 ],
 "metadata": {
  "kernelspec": {
   "display_name": "Python 3",
   "language": "python",
   "name": "python3"
  },
  "language_info": {
   "codemirror_mode": {
    "name": "ipython",
    "version": 3
   },
   "file_extension": ".py",
   "mimetype": "text/x-python",
   "name": "python",
   "nbconvert_exporter": "python",
   "pygments_lexer": "ipython3",
   "version": "3.6.6"
  }
 },
 "nbformat": 4,
 "nbformat_minor": 2
}
