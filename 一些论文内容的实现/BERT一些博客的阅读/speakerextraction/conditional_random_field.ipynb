{
 "cells": [
  {
   "cell_type": "markdown",
   "metadata": {},
   "source": [
    "# Conditional Random Field example for position tagging\n",
    "By LongGang Pang\n"
   ]
  },
  {
   "cell_type": "code",
   "execution_count": 1,
   "metadata": {
    "collapsed": true
   },
   "outputs": [],
   "source": [
    "import os"
   ]
  },
  {
   "cell_type": "code",
   "execution_count": 14,
   "metadata": {
    "collapsed": true
   },
   "outputs": [],
   "source": [
    "def construct_dataset(kind=\"training\"):\n",
    "    with open(\"%s_sentence.csv\"%kind, \"r\") as fin:\n",
    "        sentences = fin.readlines()\n",
    "    with open(\"%s_labels.csv\"%kind, \"r\") as fin:\n",
    "        labels = fin.readlines()\n",
    "    #print(sentences[-1])\n",
    "    #print(labels[-1])\n",
    "    docs = []\n",
    "    for i in range(len(sentences)):\n",
    "        texts = []\n",
    "        istart, iend, _ = labels[i].split('|||')\n",
    "        istart = int(istart)\n",
    "        iend = int(iend)\n",
    "        for j, w in enumerate(sentences[i]):\n",
    "            is_speaker = \"F\"\n",
    "            if j in range(istart, iend):\n",
    "                is_speaker = 'T'\n",
    "            texts.append((w, is_speaker))\n",
    "        docs.append(texts)\n",
    "    return docs"
   ]
  },
  {
   "cell_type": "code",
   "execution_count": 15,
   "metadata": {},
   "outputs": [],
   "source": [
    "docs = construct_dataset()"
   ]
  },
  {
   "cell_type": "code",
   "execution_count": 16,
   "metadata": {},
   "outputs": [
    {
     "data": {
      "text/plain": [
       "[('凤', 'F'),\n",
       " ('姐', 'F'),\n",
       " ('因', 'F'),\n",
       " ('问', 'F'),\n",
       " ('何', 'F'),\n",
       " ('事', 'F'),\n",
       " ('．', 'F'),\n",
       " ('凤', 'T'),\n",
       " ('姐', 'T'),\n",
       " ('道', 'F'),\n",
       " ('：', 'F'),\n",
       " ('\\n', 'F')]"
      ]
     },
     "execution_count": 16,
     "metadata": {},
     "output_type": "execute_result"
    }
   ],
   "source": [
    "docs[0]"
   ]
  },
  {
   "cell_type": "code",
   "execution_count": 20,
   "metadata": {},
   "outputs": [
    {
     "data": {},
     "metadata": {},
     "output_type": "display_data"
    }
   ],
   "source": [
    "import nltk\n",
    "from tqdm import tqdm_notebook\n",
    "data = []\n",
    "for i, doc in tqdm_notebook(enumerate(docs)):\n",
    "\n",
    "    # Obtain the list of tokens in the document\n",
    "    tokens = [t for t, label in doc]\n",
    "\n",
    "    # Perform POS tagging\n",
    "    tagged = nltk.pos_tag(tokens)\n",
    "\n",
    "    # Take the word, POS tag, and its label\n",
    "    data.append([(w, pos, label) for (w, label), (word, pos) in zip(doc, tagged)])\n"
   ]
  },
  {
   "cell_type": "code",
   "execution_count": 21,
   "metadata": {
    "collapsed": true
   },
   "outputs": [],
   "source": [
    "def word2features(doc, i):\n",
    "    word = doc[i][0]\n",
    "    postag = doc[i][1]\n",
    "\n",
    "    # Common features for all words\n",
    "    features = [\n",
    "        'bias',\n",
    "        'word.lower=' + word.lower(),\n",
    "        'word[-3:]=' + word[-3:],\n",
    "        'word[-2:]=' + word[-2:],\n",
    "        'word.isupper=%s' % word.isupper(),\n",
    "        'word.istitle=%s' % word.istitle(),\n",
    "        'word.isdigit=%s' % word.isdigit(),\n",
    "        'postag=' + postag\n",
    "    ]\n",
    "\n",
    "    # Features for words that are not\n",
    "    # at the beginning of a document\n",
    "    if i > 0:\n",
    "        word1 = doc[i-1][0]\n",
    "        postag1 = doc[i-1][1]\n",
    "        features.extend([\n",
    "            '-1:word.lower=' + word1.lower(),\n",
    "            '-1:word.istitle=%s' % word1.istitle(),\n",
    "            '-1:word.isupper=%s' % word1.isupper(),\n",
    "            '-1:word.isdigit=%s' % word1.isdigit(),\n",
    "            '-1:postag=' + postag1\n",
    "        ])\n",
    "    else:\n",
    "        # Indicate that it is the 'beginning of a document'\n",
    "        features.append('BOS')\n",
    "\n",
    "    # Features for words that are not\n",
    "    # at the end of a document\n",
    "    if i < len(doc)-1:\n",
    "        word1 = doc[i+1][0]\n",
    "        postag1 = doc[i+1][1]\n",
    "        features.extend([\n",
    "            '+1:word.lower=' + word1.lower(),\n",
    "            '+1:word.istitle=%s' % word1.istitle(),\n",
    "            '+1:word.isupper=%s' % word1.isupper(),\n",
    "            '+1:word.isdigit=%s' % word1.isdigit(),\n",
    "            '+1:postag=' + postag1\n",
    "        ])\n",
    "    else:\n",
    "        # Indicate that it is the 'end of a document'\n",
    "        features.append('EOS')\n",
    "\n",
    "    return features"
   ]
  },
  {
   "cell_type": "code",
   "execution_count": 22,
   "metadata": {
    "collapsed": true
   },
   "outputs": [],
   "source": [
    "from sklearn.model_selection import train_test_split\n",
    "\n",
    "# A function for extracting features in documents\n",
    "def extract_features(doc):\n",
    "    return [word2features(doc, i) for i in range(len(doc))]\n",
    "\n",
    "# A function fo generating the list of labels for each document\n",
    "def get_labels(doc):\n",
    "    return [label for (token, postag, label) in doc]\n",
    "\n",
    "X = [extract_features(doc) for doc in data]\n",
    "y = [get_labels(doc) for doc in data]\n",
    "\n",
    "X_train, X_test, y_train, y_test = train_test_split(X, y, test_size=0.2)"
   ]
  },
  {
   "cell_type": "code",
   "execution_count": 26,
   "metadata": {
    "scrolled": true
   },
   "outputs": [],
   "source": [
    "import pycrfsuite\n",
    "trainer = pycrfsuite.Trainer(verbose=False)\n",
    "\n",
    "# Submit training data to the trainer\n",
    "for xseq, yseq in zip(X_train, y_train):\n",
    "    trainer.append(xseq, yseq)\n",
    "\n",
    "# Set the parameters of the model\n",
    "trainer.set_params({\n",
    "    # coefficient for L1 penalty\n",
    "    'c1': 0.1,\n",
    "\n",
    "    # coefficient for L2 penalty\n",
    "    'c2': 0.01,  \n",
    "\n",
    "    # maximum number of iterations\n",
    "    'max_iterations': 200,\n",
    "     \n",
    "    # whether to include transitions that\n",
    "    # are possible, but not observed\n",
    "    'feature.possible_transitions': True\n",
    "})\n",
    "\n",
    "# Provide a file name as a parameter to the train function, such that\n",
    "# the model will be saved to the file when training is finished\n",
    "trainer.train('crf.model')"
   ]
  },
  {
   "cell_type": "code",
   "execution_count": 30,
   "metadata": {},
   "outputs": [],
   "source": [
    "tagger = pycrfsuite.Tagger()\n",
    "tagger.open('crf.model')\n",
    "y_pred = [tagger.tag(xseq) for xseq in X_test]"
   ]
  },
  {
   "cell_type": "code",
   "execution_count": 121,
   "metadata": {},
   "outputs": [],
   "source": [
    "#X_test[0]"
   ]
  },
  {
   "cell_type": "code",
   "execution_count": 41,
   "metadata": {},
   "outputs": [
    {
     "data": {
      "text/plain": [
       "'word.lower=幻'"
      ]
     },
     "execution_count": 41,
     "metadata": {},
     "output_type": "execute_result"
    }
   ],
   "source": [
    "y_pred[2]\n",
    "X_test[2][1][1]"
   ]
  },
  {
   "cell_type": "code",
   "execution_count": 73,
   "metadata": {
    "collapsed": true
   },
   "outputs": [],
   "source": [
    "from IPython.display import HTML as html_print, display\n",
    "\n",
    "def cstr(s, color='black'):\n",
    "    #return \"<text style=color:{}>{}</text>\".format(color, s)\n",
    "    return \"<span style=\\\"color: #ff0000\\\">{}</span>\".format(s)\n",
    "    #return \"**{}**\".format(s)\n",
    "\n",
    "#left, word, right = 'foo' , 'abc' , 'bar'\n",
    "#html_print(cstr(' '.join([left, cstr(word, color='red'), right]), color='black') )\n",
    "from IPython.display import Markdown"
   ]
  },
  {
   "cell_type": "code",
   "execution_count": 101,
   "metadata": {},
   "outputs": [],
   "source": [
    "# Let's take a look at a random sample in the testing set\n",
    "def check_result(i=12):\n",
    "    res = []\n",
    "    for j, label in enumerate(y_pred[i]):\n",
    "        word = X_test[i][j][1].split(\"=\")[1]\n",
    "        if label == 'T':\n",
    "            res.append(cstr(word, color='red'))\n",
    "        elif label == 'F':\n",
    "            res.append(word)\n",
    "    return len(y_pred[i]), ' '.join(res)"
   ]
  },
  {
   "cell_type": "code",
   "execution_count": 107,
   "metadata": {
    "scrolled": false
   },
   "outputs": [
    {
     "data": {
      "text/markdown": [
       "<span style=\"color: #ff0000\">周</span> <span style=\"color: #ff0000\">瑞</span> <span style=\"color: #ff0000\">家</span> <span style=\"color: #ff0000\">的</span> 点 头 ． 又 道 ： \n"
      ],
      "text/plain": [
       "<IPython.core.display.Markdown object>"
      ]
     },
     "metadata": {},
     "output_type": "display_data"
    },
    {
     "data": {
      "text/markdown": [
       "乃 亲 斟 一 斗 为 贺 ． <span style=\"color: #ff0000\">那</span> <span style=\"color: #ff0000\">僧</span> 因 干 过 ， 叹 道 ： \n"
      ],
      "text/plain": [
       "<IPython.core.display.Markdown object>"
      ]
     },
     "metadata": {},
     "output_type": "display_data"
    },
    {
     "data": {
      "text/markdown": [
       "<span style=\"color: #ff0000\">贾</span> <span style=\"color: #ff0000\">政</span> 听 了 ， 便 和 丫 头 说 ： \n"
      ],
      "text/plain": [
       "<IPython.core.display.Markdown object>"
      ]
     },
     "metadata": {},
     "output_type": "display_data"
    },
    {
     "data": {
      "text/markdown": [
       "<span style=\"color: #ff0000\">邢</span> <span style=\"color: #ff0000\">夫</span> <span style=\"color: #ff0000\">人</span> 只 怕 他 睡 出 病 来 ， 便 哄 他 道 ： \n"
      ],
      "text/plain": [
       "<IPython.core.display.Markdown object>"
      ]
     },
     "metadata": {},
     "output_type": "display_data"
    },
    {
     "data": {
      "text/markdown": [
       "<span style=\"color: #ff0000\">尤</span> <span style=\"color: #ff0000\">氏</span> <span style=\"color: #ff0000\">秦</span> <span style=\"color: #ff0000\">氏</span> 未 及 答 话 ， 地 下 <span style=\"color: #ff0000\">贾</span> <span style=\"color: #ff0000\">政</span> 先 就 笑 说 ： \n"
      ],
      "text/plain": [
       "<IPython.core.display.Markdown object>"
      ]
     },
     "metadata": {},
     "output_type": "display_data"
    },
    {
     "data": {
      "text/markdown": [
       "于 是 <span style=\"color: #ff0000\">凤</span> <span style=\"color: #ff0000\">姐</span> 就 吩 咐 媳 妇 婆 子 们 ： \n"
      ],
      "text/plain": [
       "<IPython.core.display.Markdown object>"
      ]
     },
     "metadata": {},
     "output_type": "display_data"
    },
    {
     "data": {
      "text/markdown": [
       "<span style=\"color: #ff0000\">凤</span> <span style=\"color: #ff0000\">姐</span> 不 待 说 完 ， 便 答 道 ： \n"
      ],
      "text/plain": [
       "<IPython.core.display.Markdown object>"
      ]
     },
     "metadata": {},
     "output_type": "display_data"
    },
    {
     "data": {
      "text/markdown": [
       "贾 母 正 说 着 ， 只 见 湘 云 走 来 ， 笑 道 ： \n"
      ],
      "text/plain": [
       "<IPython.core.display.Markdown object>"
      ]
     },
     "metadata": {},
     "output_type": "display_data"
    },
    {
     "data": {
      "text/markdown": [
       "<span style=\"color: #ff0000\">凤</span> <span style=\"color: #ff0000\">姐</span> 听 了 ， 沉 吟 了 半 日 ， 因 向 凤 姐 儿 说 ： \n"
      ],
      "text/plain": [
       "<IPython.core.display.Markdown object>"
      ]
     },
     "metadata": {},
     "output_type": "display_data"
    },
    {
     "data": {
      "text/markdown": [
       "未 及 说 完 ， <span style=\"color: #ff0000\">水</span> <span style=\"color: #ff0000\">溶</span> 喝 道 ： \n"
      ],
      "text/plain": [
       "<IPython.core.display.Markdown object>"
      ]
     },
     "metadata": {},
     "output_type": "display_data"
    },
    {
     "data": {
      "text/markdown": [
       "金 氏 去 后 ， 贾 政 方 过 来 坐 下 ， 问 尤 氏 道 ： \n"
      ],
      "text/plain": [
       "<IPython.core.display.Markdown object>"
      ]
     },
     "metadata": {},
     "output_type": "display_data"
    },
    {
     "data": {
      "text/markdown": [
       "<span style=\"color: #ff0000\">宝</span> <span style=\"color: #ff0000\">钗</span> 听 了 ， 低 头 想 了 半 日 道 ： \n"
      ],
      "text/plain": [
       "<IPython.core.display.Markdown object>"
      ]
     },
     "metadata": {},
     "output_type": "display_data"
    },
    {
     "data": {
      "text/markdown": [
       "<span style=\"color: #ff0000\">周</span> <span style=\"color: #ff0000\">瑞</span> <span style=\"color: #ff0000\">家</span> <span style=\"color: #ff0000\">的</span> 忙 携 手 垂 泪 道 ： \n"
      ],
      "text/plain": [
       "<IPython.core.display.Markdown object>"
      ]
     },
     "metadata": {},
     "output_type": "display_data"
    },
    {
     "data": {
      "text/markdown": [
       "<span style=\"color: #ff0000\">尤</span> <span style=\"color: #ff0000\">氏</span> <span style=\"color: #ff0000\">秦</span> <span style=\"color: #ff0000\">氏</span> 未 及 答 话 ， 地 下 <span style=\"color: #ff0000\">宝</span> <span style=\"color: #ff0000\">玉</span> 先 就 笑 说 ： \n"
      ],
      "text/plain": [
       "<IPython.core.display.Markdown object>"
      ]
     },
     "metadata": {},
     "output_type": "display_data"
    },
    {
     "data": {
      "text/markdown": [
       "未 及 说 完 ， <span style=\"color: #ff0000\">贾</span> <span style=\"color: #ff0000\">蔷</span> 气 的 喝 命 ： \n"
      ],
      "text/plain": [
       "<IPython.core.display.Markdown object>"
      ]
     },
     "metadata": {},
     "output_type": "display_data"
    },
    {
     "data": {
      "text/markdown": [
       "<span style=\"color: #ff0000\">宝</span> <span style=\"color: #ff0000\">玉</span> 听 了 ， 笑 向 贾 珍 道 ： \n"
      ],
      "text/plain": [
       "<IPython.core.display.Markdown object>"
      ]
     },
     "metadata": {},
     "output_type": "display_data"
    },
    {
     "data": {
      "text/markdown": [
       "<span style=\"color: #ff0000\">贾</span> <span style=\"color: #ff0000\">珍</span> 听 了 这 话 ， 便 发 了 兴 头 ， 说 道 ： \n"
      ],
      "text/plain": [
       "<IPython.core.display.Markdown object>"
      ]
     },
     "metadata": {},
     "output_type": "display_data"
    },
    {
     "data": {
      "text/markdown": [
       "<span style=\"color: #ff0000\">周</span> <span style=\"color: #ff0000\">瑞</span> <span style=\"color: #ff0000\">家</span> <span style=\"color: #ff0000\">的</span> 笑 嘻 嘻 的 说 ： \n"
      ],
      "text/plain": [
       "<IPython.core.display.Markdown object>"
      ]
     },
     "metadata": {},
     "output_type": "display_data"
    },
    {
     "data": {
      "text/markdown": [
       "连 问 几 声 ， <span style=\"color: #ff0000\">宝</span> <span style=\"color: #ff0000\">玉</span> 睁 眼 说 道 ： \n"
      ],
      "text/plain": [
       "<IPython.core.display.Markdown object>"
      ]
     },
     "metadata": {},
     "output_type": "display_data"
    },
    {
     "data": {
      "text/markdown": [
       "<span style=\"color: #ff0000\">李</span> <span style=\"color: #ff0000\">嬷</span> <span style=\"color: #ff0000\">嬷</span> 听 了 ， 恍 惚 问 道 ： \n"
      ],
      "text/plain": [
       "<IPython.core.display.Markdown object>"
      ]
     },
     "metadata": {},
     "output_type": "display_data"
    },
    {
     "data": {
      "text/markdown": [
       "<span style=\"color: #ff0000\">王</span> <span style=\"color: #ff0000\">夫</span> <span style=\"color: #ff0000\">人</span> 听 说 ， 便 回 去 了 ， 又 说 ： \n"
      ],
      "text/plain": [
       "<IPython.core.display.Markdown object>"
      ]
     },
     "metadata": {},
     "output_type": "display_data"
    }
   ],
   "source": [
    "for i in range(100):\n",
    "    length, res = check_result(i)\n",
    "    if length > 10 and length < 20:\n",
    "        display(Markdown(res))\n",
    "        "
   ]
  },
  {
   "cell_type": "code",
   "execution_count": 117,
   "metadata": {
    "collapsed": true
   },
   "outputs": [],
   "source": [
    "def construct_testing_dataset():\n",
    "    from honglou import talks\n",
    "    x_test = []\n",
    "    for i, talk in tqdm_notebook(enumerate(talks)):\n",
    "        ctx = talk['context']\n",
    "        tokens = [t for t in ctx]\n",
    "        \n",
    "        # Perform POS tagging\n",
    "        tagged = nltk.pos_tag(tokens)\n",
    "\n",
    "        # Take the word, POS tag, and its label\n",
    "        doc = tagged\n",
    "        \n",
    "        x_test.append(extract_features(doc))\n",
    "\n",
    "    return x_test"
   ]
  },
  {
   "cell_type": "code",
   "execution_count": 118,
   "metadata": {},
   "outputs": [
    {
     "data": {},
     "metadata": {},
     "output_type": "display_data"
    }
   ],
   "source": [
    "x_test = construct_testing_dataset()"
   ]
  },
  {
   "cell_type": "code",
   "execution_count": 120,
   "metadata": {},
   "outputs": [],
   "source": [
    "#x_test[0]"
   ]
  },
  {
   "cell_type": "code",
   "execution_count": 122,
   "metadata": {
    "collapsed": true
   },
   "outputs": [],
   "source": [
    "y_pred_entire = [tagger.tag(xseq) for xseq in x_test]"
   ]
  },
  {
   "cell_type": "code",
   "execution_count": 125,
   "metadata": {},
   "outputs": [
    {
     "data": {
      "text/plain": [
       "['T', 'T', 'T', 'F', 'F', 'F', 'F', 'F', 'F', 'F', 'F']"
      ]
     },
     "execution_count": 125,
     "metadata": {},
     "output_type": "execute_result"
    }
   ],
   "source": [
    "y_pred_entire[2]"
   ]
  },
  {
   "cell_type": "code",
   "execution_count": 158,
   "metadata": {
    "scrolled": true
   },
   "outputs": [
    {
     "data": {
      "text/plain": [
       "[[0, 2], [10, 12], [56, 58]]"
      ]
     },
     "execution_count": 158,
     "metadata": {},
     "output_type": "execute_result"
    }
   ],
   "source": [
    "import numpy as np\n",
    "def convert_tags_to_indices(tags):\n",
    "    left_ = False\n",
    "    res = []\n",
    "    for t in tags:\n",
    "        if t == 'T': \n",
    "            res.append(1)\n",
    "        else:\n",
    "            res.append(0)\n",
    "    res = np.array(res)\n",
    "    edges = np.abs(res[1:] - res[:-1])\n",
    "    a = edges.tolist()\n",
    "    if len(res) > 0:\n",
    "        a.insert(0, res[0])\n",
    "        indices = []\n",
    "        for i, t in enumerate(a):\n",
    "            if t == 1:\n",
    "                indices.append(i)\n",
    "        pairs = []\n",
    "        for i in range(len(indices)//2):\n",
    "            pairs.append([indices[2*i], indices[2*i+1]])\n",
    "    else:\n",
    "        pairs = []\n",
    "    return pairs\n",
    "\n",
    "convert_tags_to_indices(y_pred_entire[6])"
   ]
  },
  {
   "cell_type": "code",
   "execution_count": 162,
   "metadata": {},
   "outputs": [
    {
     "data": {},
     "metadata": {},
     "output_type": "display_data"
    }
   ],
   "source": [
    "from honglou import talks\n",
    "with open(\"res_crf.txt\", \"w\") as fout:\n",
    "    for i, talk in tqdm_notebook(enumerate(talks)):\n",
    "        ctx = talk['context']\n",
    "        tags = y_pred_entire[i]\n",
    "        indicies = convert_tags_to_indices(tags)\n",
    "        fout.write(ctx)\n",
    "        fout.write('  |||  ')\n",
    "        try:\n",
    "            for index in indicies:\n",
    "                    istart = index[0]\n",
    "                    iend = index[1]\n",
    "                    fout.write(\"%s\"%ctx[istart:iend])    \n",
    "        except:\n",
    "            print(indicies)\n",
    "            pass\n",
    "\n",
    "        fout.write('\\n')\n",
    "        #print(talk[\"context\"], \" ||| \", predictions[\"%s\"%i])"
   ]
  },
  {
   "cell_type": "code",
   "execution_count": null,
   "metadata": {
    "collapsed": true
   },
   "outputs": [],
   "source": []
  }
 ],
 "metadata": {
  "kernelspec": {
   "display_name": "Python 3",
   "language": "python",
   "name": "python3"
  },
  "language_info": {
   "codemirror_mode": {
    "name": "ipython",
    "version": 3
   },
   "file_extension": ".py",
   "mimetype": "text/x-python",
   "name": "python",
   "nbconvert_exporter": "python",
   "pygments_lexer": "ipython3",
   "version": "3.6.6"
  }
 },
 "nbformat": 4,
 "nbformat_minor": 2
}
