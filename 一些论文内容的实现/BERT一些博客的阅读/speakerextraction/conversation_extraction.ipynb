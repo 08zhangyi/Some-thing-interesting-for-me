{
 "cells": [
  {
   "cell_type": "markdown",
   "metadata": {},
   "source": [
    "# Extract speakers and what they say from the book\n",
    "\n",
    "By LongGang Pang"
   ]
  },
  {
   "cell_type": "code",
   "execution_count": 12,
   "metadata": {
    "collapsed": true
   },
   "outputs": [],
   "source": [
    "import os\n",
    "from tqdm import tqdm_notebook"
   ]
  },
  {
   "cell_type": "code",
   "execution_count": 2,
   "metadata": {
    "collapsed": true
   },
   "outputs": [],
   "source": [
    "def get_conversations(sentence):\n",
    "    '''get the start and end position of the conversation in the\n",
    "    input sentence\n",
    "    Returns:\n",
    "      start_index: int, the starting index in the sentence\n",
    "      end_index: int, the ending index in the sentence\n",
    "      conversation: str, the conversation'''\n",
    "    end_symbols = ['\"', '“', '”']\n",
    "    istart, iend = -1, -1\n",
    "    talks = []  # 收集对话\n",
    "    # get the start and end position for conversation\n",
    "    for i in range(1, len(sentence)): \n",
    "        if (not istart == -1) and sentence[i] in end_symbols:\n",
    "            iend = i\n",
    "            conversation = {'istart': istart, 'iend': iend, 'talk': sentence[istart+1:iend]}\n",
    "            talks.append(conversation)\n",
    "            istart = -1\n",
    "        if sentence[i-1] in [':', '：'] and sentence[i] in end_symbols:\n",
    "            istart = i\n",
    "    # get the context from where one can extract speaker\n",
    "    contexts = []\n",
    "    if len(talks):\n",
    "        for i in range(len(talks)):\n",
    "            if i == 0: \n",
    "                contexts.append(sentence[:talks[i]['istart']])\n",
    "            else:\n",
    "                contexts.append(sentence[talks[i-1]['iend']+1:talks[i]['istart']])\n",
    "        # append the paragraph after the conversation if iend != len(sentence)\n",
    "        if talks[-1]['iend'] != len(sentence):\n",
    "            contexts.append(sentence[talks[-1]['iend']+1:])\n",
    "        else:\n",
    "            contexts.append(' ')\n",
    "        # the situation is not considered if the speaker comes after the talk\n",
    "        for i in range(len(talks)):\n",
    "            talks[i]['context'] = contexts[i]\n",
    "    return talks, contexts    \n"
   ]
  },
  {
   "cell_type": "code",
   "execution_count": 13,
   "metadata": {
    "collapsed": true,
    "scrolled": false
   },
   "outputs": [],
   "source": [
    "def extract_corpus(book_name=\"hongloumeng.txt\", save_as=\"honglou.py\"):\n",
    "    fout = open(save_as, \"w\")  # 保存的文件，记录成python格式\n",
    "    with open(book_name, \"r\") as fin:\n",
    "        fout.write('#!/usr/bin/env python\\n')\n",
    "        fout.write('talks = [')\n",
    "        for line in tqdm_notebook(fin.readlines()):\n",
    "            talks, contexts = get_conversations(line.strip())\n",
    "            if len(talks) > 0:\n",
    "                for talk in talks: #print(talk, '|||\\n')\n",
    "                    fout.write(talk.__repr__())\n",
    "                    fout.write(',\\n')\n",
    "        fout.write(']')\n",
    "    fout.close()"
   ]
  },
  {
   "cell_type": "code",
   "execution_count": 14,
   "metadata": {},
   "outputs": [
    {
     "data": {},
     "metadata": {},
     "output_type": "display_data"
    },
    {
     "name": "stdout",
     "output_type": "stream",
     "text": [
      "\n"
     ]
    }
   ],
   "source": [
    "extract_corpus()"
   ]
  },
  {
   "cell_type": "code",
   "execution_count": 15,
   "metadata": {
    "collapsed": true
   },
   "outputs": [],
   "source": [
    "from honglou import talks"
   ]
  },
  {
   "cell_type": "code",
   "execution_count": 18,
   "metadata": {
    "scrolled": false
   },
   "outputs": [
    {
     "name": "stdout",
     "output_type": "stream",
     "text": [
      "[{'istart': 37, 'iend': 106, 'talk': '汝父年将半百，再无续室之意，且汝多病，年又极小，上无亲母教养，下无姊妹兄弟扶持，今依傍外祖母及舅氏姊妹去，正好减我顾盼之忧，何反云不往？', 'context': '那女学生黛玉，身体方愈，原不忍弃父而往，无奈他外祖母致意务去，且兼如海说：'}, {'istart': 555, 'iend': 571, 'talk': '刚才老太太还念呢，可巧就来了。', 'context': '且说黛玉自那日弃舟登岸时，便有荣国府打发了轿子并拉行李的车辆久候了．这林黛玉常听得母亲说过，他外祖母家与别家不同．他近日所见的这几个三等仆妇，吃穿用度，已是不凡了，何况今至其家．因此步步留心，时时在意，不肯轻易多说一句话，多行一步路，惟恐被人耻笑了他去．自上了轿，进入城中从纱窗向外瞧了一瞧，其街市之繁华，人烟之阜盛，自与别处不同．又行了半日，忽见街北蹲着两个大石狮子，三间兽头大门，门前列坐着十来个华冠丽服之人．正门却不开，只有东西两角门有人出入．正门之上有一匾，匾上大书\"敕造宁国府\"五个大字．黛玉想道：这必是外祖之长房了．想着，又往西行，不多远，照样也是三间大门，方是荣国府了．却不进正门，只进了西边角门．那轿夫抬进去，走了一射之地，将转弯时，便歇下退出去了．后面的婆子们已都下了轿，赶上前来．另换了三四个衣帽周全十七八岁的小厮上来，复抬起轿子．众婆子步下围随至一垂花门前落下．众小厮退出，众婆子上来打起轿帘，扶黛玉下轿．林黛玉扶着婆子的手，进了垂花门，两边是抄手游廊，当中是穿堂，当地放着一个紫檀架子大理石的大插屏．转过插屏，小小的三间厅，厅后就是后面的正房大院．正面五间上房，皆雕梁画栋，两边穿山游廊厢房，挂着各色鹦鹉，画眉等鸟雀．台矶之上，坐着几个穿红着绿的丫头，一见他们来了，便忙都笑迎上来，说：'}, {'istart': 592, 'iend': 599, 'talk': '林姑娘到了。', 'context': '于是三四人争着打起帘笼，一面听得人回话：'}, {'istart': 149, 'iend': 179, 'talk': '这是你大舅母，这是你二舅母，这是你先珠大哥的媳妇珠大嫂子。', 'context': '黛玉方进入房时，只见两个人搀着一位鬓发如银的老母迎上来，黛玉便知是他外祖母．方欲拜见时，早被他外祖母一把搂入怀中，心肝儿肉叫着大哭起来．当下地下侍立之人，无不掩面涕泣，黛玉也哭个不住．一时众人慢慢解劝住了，黛玉方拜见了外祖母．____此即冷子兴所云之史氏太君，贾赦贾政之母也．当下贾母一一指与黛玉：'}, {'istart': 193, 'iend': 216, 'talk': '请姑娘们来．今日远客才来，可以不必上学去了。', 'context': '黛玉一一拜见过．贾母又说：'}]\n"
     ]
    }
   ],
   "source": [
    "print(talks[-5:])"
   ]
  },
  {
   "cell_type": "code",
   "execution_count": null,
   "metadata": {
    "collapsed": true
   },
   "outputs": [],
   "source": []
  }
 ],
 "metadata": {
  "kernelspec": {
   "display_name": "Python 3",
   "language": "python",
   "name": "python3"
  },
  "language_info": {
   "codemirror_mode": {
    "name": "ipython",
    "version": 3
   },
   "file_extension": ".py",
   "mimetype": "text/x-python",
   "name": "python",
   "nbconvert_exporter": "python",
   "pygments_lexer": "ipython3",
   "version": "3.6.6"
  }
 },
 "nbformat": 4,
 "nbformat_minor": 2
}
